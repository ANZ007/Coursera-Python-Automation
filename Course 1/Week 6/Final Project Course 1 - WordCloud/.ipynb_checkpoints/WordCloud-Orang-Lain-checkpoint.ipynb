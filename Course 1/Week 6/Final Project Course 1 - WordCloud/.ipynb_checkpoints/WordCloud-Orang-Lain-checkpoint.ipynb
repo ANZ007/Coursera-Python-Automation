{
 "cells": [
  {
   "cell_type": "code",
   "execution_count": 2,
   "metadata": {},
   "outputs": [
    {
     "name": "stdout",
     "output_type": "stream",
     "text": [
      "Requirement already satisfied: wordcloud in /home/anz007/apps/miniconda3/envs/ikh315/lib/python3.7/site-packages (1.8.1)\n",
      "Requirement already satisfied: matplotlib in /home/anz007/apps/miniconda3/envs/ikh315/lib/python3.7/site-packages (from wordcloud) (3.3.2)\n",
      "Requirement already satisfied: numpy>=1.6.1 in /home/anz007/apps/miniconda3/envs/ikh315/lib/python3.7/site-packages (from wordcloud) (1.19.1)\n",
      "Requirement already satisfied: pillow in /home/anz007/apps/miniconda3/envs/ikh315/lib/python3.7/site-packages (from wordcloud) (8.0.0)\n",
      "Requirement already satisfied: python-dateutil>=2.1 in /home/anz007/apps/miniconda3/envs/ikh315/lib/python3.7/site-packages (from matplotlib->wordcloud) (2.8.1)\n",
      "Requirement already satisfied: kiwisolver>=1.0.1 in /home/anz007/apps/miniconda3/envs/ikh315/lib/python3.7/site-packages (from matplotlib->wordcloud) (1.2.0)\n",
      "Requirement already satisfied: cycler>=0.10 in /home/anz007/apps/miniconda3/envs/ikh315/lib/python3.7/site-packages (from matplotlib->wordcloud) (0.10.0)\n",
      "Requirement already satisfied: certifi>=2020.06.20 in /home/anz007/apps/miniconda3/envs/ikh315/lib/python3.7/site-packages (from matplotlib->wordcloud) (2020.6.20)\n",
      "Requirement already satisfied: pyparsing!=2.0.4,!=2.1.2,!=2.1.6,>=2.0.3 in /home/anz007/apps/miniconda3/envs/ikh315/lib/python3.7/site-packages (from matplotlib->wordcloud) (2.4.7)\n",
      "Requirement already satisfied: six>=1.5 in /home/anz007/apps/miniconda3/envs/ikh315/lib/python3.7/site-packages (from python-dateutil>=2.1->matplotlib->wordcloud) (1.15.0)\n",
      "Requirement already satisfied: fileupload in /home/anz007/apps/miniconda3/envs/ikh315/lib/python3.7/site-packages (0.1.5)\n",
      "Requirement already satisfied: traitlets>=4.2 in /home/anz007/apps/miniconda3/envs/ikh315/lib/python3.7/site-packages (from fileupload) (5.0.4)\n",
      "Requirement already satisfied: ipywidgets>=5.1 in /home/anz007/apps/miniconda3/envs/ikh315/lib/python3.7/site-packages (from fileupload) (7.5.1)\n",
      "Requirement already satisfied: notebook>=4.2 in /home/anz007/apps/miniconda3/envs/ikh315/lib/python3.7/site-packages (from fileupload) (6.1.3)\n",
      "Requirement already satisfied: ipython-genutils in /home/anz007/apps/miniconda3/envs/ikh315/lib/python3.7/site-packages (from traitlets>=4.2->fileupload) (0.2.0)\n",
      "Requirement already satisfied: ipykernel>=4.5.1 in /home/anz007/apps/miniconda3/envs/ikh315/lib/python3.7/site-packages (from ipywidgets>=5.1->fileupload) (5.3.4)\n",
      "Requirement already satisfied: ipython>=4.0.0; python_version >= \"3.3\" in /home/anz007/apps/miniconda3/envs/ikh315/lib/python3.7/site-packages (from ipywidgets>=5.1->fileupload) (7.18.1)\n",
      "Requirement already satisfied: nbformat>=4.2.0 in /home/anz007/apps/miniconda3/envs/ikh315/lib/python3.7/site-packages (from ipywidgets>=5.1->fileupload) (5.0.7)\n",
      "Requirement already satisfied: widgetsnbextension~=3.5.0 in /home/anz007/apps/miniconda3/envs/ikh315/lib/python3.7/site-packages (from ipywidgets>=5.1->fileupload) (3.5.1)\n",
      "Requirement already satisfied: jupyter-client>=5.3.4 in /home/anz007/apps/miniconda3/envs/ikh315/lib/python3.7/site-packages (from notebook>=4.2->fileupload) (6.1.7)\n",
      "Requirement already satisfied: jinja2 in /home/anz007/apps/miniconda3/envs/ikh315/lib/python3.7/site-packages (from notebook>=4.2->fileupload) (2.11.2)\n",
      "Requirement already satisfied: terminado>=0.8.3 in /home/anz007/apps/miniconda3/envs/ikh315/lib/python3.7/site-packages (from notebook>=4.2->fileupload) (0.8.3)\n",
      "Requirement already satisfied: Send2Trash in /home/anz007/apps/miniconda3/envs/ikh315/lib/python3.7/site-packages (from notebook>=4.2->fileupload) (1.5.0)\n",
      "Requirement already satisfied: nbconvert in /home/anz007/apps/miniconda3/envs/ikh315/lib/python3.7/site-packages (from notebook>=4.2->fileupload) (5.6.1)\n",
      "Requirement already satisfied: tornado>=5.0 in /home/anz007/apps/miniconda3/envs/ikh315/lib/python3.7/site-packages (from notebook>=4.2->fileupload) (6.0.4)\n",
      "Requirement already satisfied: argon2-cffi in /home/anz007/apps/miniconda3/envs/ikh315/lib/python3.7/site-packages (from notebook>=4.2->fileupload) (20.1.0)\n",
      "Requirement already satisfied: pyzmq>=17 in /home/anz007/apps/miniconda3/envs/ikh315/lib/python3.7/site-packages (from notebook>=4.2->fileupload) (19.0.2)\n",
      "Requirement already satisfied: prometheus-client in /home/anz007/apps/miniconda3/envs/ikh315/lib/python3.7/site-packages (from notebook>=4.2->fileupload) (0.8.0)\n",
      "Requirement already satisfied: jupyter-core>=4.6.1 in /home/anz007/apps/miniconda3/envs/ikh315/lib/python3.7/site-packages (from notebook>=4.2->fileupload) (4.6.3)\n",
      "Requirement already satisfied: backcall in /home/anz007/apps/miniconda3/envs/ikh315/lib/python3.7/site-packages (from ipython>=4.0.0; python_version >= \"3.3\"->ipywidgets>=5.1->fileupload) (0.2.0)\n",
      "Requirement already satisfied: jedi>=0.10 in /home/anz007/apps/miniconda3/envs/ikh315/lib/python3.7/site-packages (from ipython>=4.0.0; python_version >= \"3.3\"->ipywidgets>=5.1->fileupload) (0.17.2)\n",
      "Requirement already satisfied: pygments in /home/anz007/apps/miniconda3/envs/ikh315/lib/python3.7/site-packages (from ipython>=4.0.0; python_version >= \"3.3\"->ipywidgets>=5.1->fileupload) (2.6.1)\n",
      "Requirement already satisfied: setuptools>=18.5 in /home/anz007/apps/miniconda3/envs/ikh315/lib/python3.7/site-packages (from ipython>=4.0.0; python_version >= \"3.3\"->ipywidgets>=5.1->fileupload) (49.6.0.post20200814)\n",
      "Requirement already satisfied: pickleshare in /home/anz007/apps/miniconda3/envs/ikh315/lib/python3.7/site-packages (from ipython>=4.0.0; python_version >= \"3.3\"->ipywidgets>=5.1->fileupload) (0.7.5)\n",
      "Requirement already satisfied: decorator in /home/anz007/apps/miniconda3/envs/ikh315/lib/python3.7/site-packages (from ipython>=4.0.0; python_version >= \"3.3\"->ipywidgets>=5.1->fileupload) (4.4.2)\n",
      "Requirement already satisfied: pexpect>4.3; sys_platform != \"win32\" in /home/anz007/apps/miniconda3/envs/ikh315/lib/python3.7/site-packages (from ipython>=4.0.0; python_version >= \"3.3\"->ipywidgets>=5.1->fileupload) (4.8.0)\n",
      "Requirement already satisfied: prompt-toolkit!=3.0.0,!=3.0.1,<3.1.0,>=2.0.0 in /home/anz007/apps/miniconda3/envs/ikh315/lib/python3.7/site-packages (from ipython>=4.0.0; python_version >= \"3.3\"->ipywidgets>=5.1->fileupload) (3.0.7)\n",
      "Requirement already satisfied: jsonschema!=2.5.0,>=2.4 in /home/anz007/apps/miniconda3/envs/ikh315/lib/python3.7/site-packages (from nbformat>=4.2.0->ipywidgets>=5.1->fileupload) (3.2.0)\n",
      "Requirement already satisfied: python-dateutil>=2.1 in /home/anz007/apps/miniconda3/envs/ikh315/lib/python3.7/site-packages (from jupyter-client>=5.3.4->notebook>=4.2->fileupload) (2.8.1)\n",
      "Requirement already satisfied: MarkupSafe>=0.23 in /home/anz007/apps/miniconda3/envs/ikh315/lib/python3.7/site-packages (from jinja2->notebook>=4.2->fileupload) (1.1.1)\n",
      "Requirement already satisfied: ptyprocess; os_name != \"nt\" in /home/anz007/apps/miniconda3/envs/ikh315/lib/python3.7/site-packages (from terminado>=0.8.3->notebook>=4.2->fileupload) (0.6.0)\n",
      "Requirement already satisfied: entrypoints>=0.2.2 in /home/anz007/apps/miniconda3/envs/ikh315/lib/python3.7/site-packages (from nbconvert->notebook>=4.2->fileupload) (0.3)\n",
      "Requirement already satisfied: testpath in /home/anz007/apps/miniconda3/envs/ikh315/lib/python3.7/site-packages (from nbconvert->notebook>=4.2->fileupload) (0.4.4)\n",
      "Requirement already satisfied: mistune<2,>=0.8.1 in /home/anz007/apps/miniconda3/envs/ikh315/lib/python3.7/site-packages (from nbconvert->notebook>=4.2->fileupload) (0.8.4)\n",
      "Requirement already satisfied: defusedxml in /home/anz007/apps/miniconda3/envs/ikh315/lib/python3.7/site-packages (from nbconvert->notebook>=4.2->fileupload) (0.6.0)\n",
      "Requirement already satisfied: bleach in /home/anz007/apps/miniconda3/envs/ikh315/lib/python3.7/site-packages (from nbconvert->notebook>=4.2->fileupload) (3.1.5)\n",
      "Requirement already satisfied: pandocfilters>=1.4.1 in /home/anz007/apps/miniconda3/envs/ikh315/lib/python3.7/site-packages (from nbconvert->notebook>=4.2->fileupload) (1.4.2)\n",
      "Requirement already satisfied: six in /home/anz007/apps/miniconda3/envs/ikh315/lib/python3.7/site-packages (from argon2-cffi->notebook>=4.2->fileupload) (1.15.0)\n",
      "Requirement already satisfied: cffi>=1.0.0 in /home/anz007/apps/miniconda3/envs/ikh315/lib/python3.7/site-packages (from argon2-cffi->notebook>=4.2->fileupload) (1.14.2)\n",
      "Requirement already satisfied: parso<0.8.0,>=0.7.0 in /home/anz007/apps/miniconda3/envs/ikh315/lib/python3.7/site-packages (from jedi>=0.10->ipython>=4.0.0; python_version >= \"3.3\"->ipywidgets>=5.1->fileupload) (0.7.1)\n",
      "Requirement already satisfied: wcwidth in /home/anz007/apps/miniconda3/envs/ikh315/lib/python3.7/site-packages (from prompt-toolkit!=3.0.0,!=3.0.1,<3.1.0,>=2.0.0->ipython>=4.0.0; python_version >= \"3.3\"->ipywidgets>=5.1->fileupload) (0.2.5)\n",
      "Requirement already satisfied: attrs>=17.4.0 in /home/anz007/apps/miniconda3/envs/ikh315/lib/python3.7/site-packages (from jsonschema!=2.5.0,>=2.4->nbformat>=4.2.0->ipywidgets>=5.1->fileupload) (20.2.0)\n",
      "Requirement already satisfied: pyrsistent>=0.14.0 in /home/anz007/apps/miniconda3/envs/ikh315/lib/python3.7/site-packages (from jsonschema!=2.5.0,>=2.4->nbformat>=4.2.0->ipywidgets>=5.1->fileupload) (0.16.0)\n",
      "Requirement already satisfied: importlib-metadata; python_version < \"3.8\" in /home/anz007/apps/miniconda3/envs/ikh315/lib/python3.7/site-packages (from jsonschema!=2.5.0,>=2.4->nbformat>=4.2.0->ipywidgets>=5.1->fileupload) (1.7.0)\n"
     ]
    },
    {
     "name": "stdout",
     "output_type": "stream",
     "text": [
      "Requirement already satisfied: packaging in /home/anz007/apps/miniconda3/envs/ikh315/lib/python3.7/site-packages (from bleach->nbconvert->notebook>=4.2->fileupload) (20.4)\n",
      "Requirement already satisfied: webencodings in /home/anz007/apps/miniconda3/envs/ikh315/lib/python3.7/site-packages (from bleach->nbconvert->notebook>=4.2->fileupload) (0.5.1)\n",
      "Requirement already satisfied: pycparser in /home/anz007/apps/miniconda3/envs/ikh315/lib/python3.7/site-packages (from cffi>=1.0.0->argon2-cffi->notebook>=4.2->fileupload) (2.20)\n",
      "Requirement already satisfied: zipp>=0.5 in /home/anz007/apps/miniconda3/envs/ikh315/lib/python3.7/site-packages (from importlib-metadata; python_version < \"3.8\"->jsonschema!=2.5.0,>=2.4->nbformat>=4.2.0->ipywidgets>=5.1->fileupload) (3.1.0)\n",
      "Requirement already satisfied: pyparsing>=2.0.2 in /home/anz007/apps/miniconda3/envs/ikh315/lib/python3.7/site-packages (from packaging->bleach->nbconvert->notebook>=4.2->fileupload) (2.4.7)\n",
      "Requirement already satisfied: ipywidgets in /home/anz007/apps/miniconda3/envs/ikh315/lib/python3.7/site-packages (7.5.1)\n",
      "Requirement already satisfied: ipython>=4.0.0; python_version >= \"3.3\" in /home/anz007/apps/miniconda3/envs/ikh315/lib/python3.7/site-packages (from ipywidgets) (7.18.1)\n",
      "Requirement already satisfied: ipykernel>=4.5.1 in /home/anz007/apps/miniconda3/envs/ikh315/lib/python3.7/site-packages (from ipywidgets) (5.3.4)\n",
      "Requirement already satisfied: widgetsnbextension~=3.5.0 in /home/anz007/apps/miniconda3/envs/ikh315/lib/python3.7/site-packages (from ipywidgets) (3.5.1)\n",
      "Requirement already satisfied: traitlets>=4.3.1 in /home/anz007/apps/miniconda3/envs/ikh315/lib/python3.7/site-packages (from ipywidgets) (5.0.4)\n",
      "Requirement already satisfied: nbformat>=4.2.0 in /home/anz007/apps/miniconda3/envs/ikh315/lib/python3.7/site-packages (from ipywidgets) (5.0.7)\n",
      "Requirement already satisfied: decorator in /home/anz007/apps/miniconda3/envs/ikh315/lib/python3.7/site-packages (from ipython>=4.0.0; python_version >= \"3.3\"->ipywidgets) (4.4.2)\n",
      "Requirement already satisfied: jedi>=0.10 in /home/anz007/apps/miniconda3/envs/ikh315/lib/python3.7/site-packages (from ipython>=4.0.0; python_version >= \"3.3\"->ipywidgets) (0.17.2)\n",
      "Requirement already satisfied: prompt-toolkit!=3.0.0,!=3.0.1,<3.1.0,>=2.0.0 in /home/anz007/apps/miniconda3/envs/ikh315/lib/python3.7/site-packages (from ipython>=4.0.0; python_version >= \"3.3\"->ipywidgets) (3.0.7)\n",
      "Requirement already satisfied: pickleshare in /home/anz007/apps/miniconda3/envs/ikh315/lib/python3.7/site-packages (from ipython>=4.0.0; python_version >= \"3.3\"->ipywidgets) (0.7.5)\n",
      "Requirement already satisfied: pygments in /home/anz007/apps/miniconda3/envs/ikh315/lib/python3.7/site-packages (from ipython>=4.0.0; python_version >= \"3.3\"->ipywidgets) (2.6.1)\n",
      "Requirement already satisfied: pexpect>4.3; sys_platform != \"win32\" in /home/anz007/apps/miniconda3/envs/ikh315/lib/python3.7/site-packages (from ipython>=4.0.0; python_version >= \"3.3\"->ipywidgets) (4.8.0)\n",
      "Requirement already satisfied: backcall in /home/anz007/apps/miniconda3/envs/ikh315/lib/python3.7/site-packages (from ipython>=4.0.0; python_version >= \"3.3\"->ipywidgets) (0.2.0)\n",
      "Requirement already satisfied: setuptools>=18.5 in /home/anz007/apps/miniconda3/envs/ikh315/lib/python3.7/site-packages (from ipython>=4.0.0; python_version >= \"3.3\"->ipywidgets) (49.6.0.post20200814)\n",
      "Requirement already satisfied: tornado>=4.2 in /home/anz007/apps/miniconda3/envs/ikh315/lib/python3.7/site-packages (from ipykernel>=4.5.1->ipywidgets) (6.0.4)\n",
      "Requirement already satisfied: jupyter-client in /home/anz007/apps/miniconda3/envs/ikh315/lib/python3.7/site-packages (from ipykernel>=4.5.1->ipywidgets) (6.1.7)\n",
      "Requirement already satisfied: notebook>=4.4.1 in /home/anz007/apps/miniconda3/envs/ikh315/lib/python3.7/site-packages (from widgetsnbextension~=3.5.0->ipywidgets) (6.1.3)\n",
      "Requirement already satisfied: ipython-genutils in /home/anz007/apps/miniconda3/envs/ikh315/lib/python3.7/site-packages (from traitlets>=4.3.1->ipywidgets) (0.2.0)\n",
      "Requirement already satisfied: jsonschema!=2.5.0,>=2.4 in /home/anz007/apps/miniconda3/envs/ikh315/lib/python3.7/site-packages (from nbformat>=4.2.0->ipywidgets) (3.2.0)\n",
      "Requirement already satisfied: jupyter-core in /home/anz007/apps/miniconda3/envs/ikh315/lib/python3.7/site-packages (from nbformat>=4.2.0->ipywidgets) (4.6.3)\n",
      "Requirement already satisfied: parso<0.8.0,>=0.7.0 in /home/anz007/apps/miniconda3/envs/ikh315/lib/python3.7/site-packages (from jedi>=0.10->ipython>=4.0.0; python_version >= \"3.3\"->ipywidgets) (0.7.1)\n",
      "Requirement already satisfied: wcwidth in /home/anz007/apps/miniconda3/envs/ikh315/lib/python3.7/site-packages (from prompt-toolkit!=3.0.0,!=3.0.1,<3.1.0,>=2.0.0->ipython>=4.0.0; python_version >= \"3.3\"->ipywidgets) (0.2.5)\n",
      "Requirement already satisfied: ptyprocess>=0.5 in /home/anz007/apps/miniconda3/envs/ikh315/lib/python3.7/site-packages (from pexpect>4.3; sys_platform != \"win32\"->ipython>=4.0.0; python_version >= \"3.3\"->ipywidgets) (0.6.0)\n",
      "Requirement already satisfied: pyzmq>=13 in /home/anz007/apps/miniconda3/envs/ikh315/lib/python3.7/site-packages (from jupyter-client->ipykernel>=4.5.1->ipywidgets) (19.0.2)\n",
      "Requirement already satisfied: python-dateutil>=2.1 in /home/anz007/apps/miniconda3/envs/ikh315/lib/python3.7/site-packages (from jupyter-client->ipykernel>=4.5.1->ipywidgets) (2.8.1)\n",
      "Requirement already satisfied: nbconvert in /home/anz007/apps/miniconda3/envs/ikh315/lib/python3.7/site-packages (from notebook>=4.4.1->widgetsnbextension~=3.5.0->ipywidgets) (5.6.1)\n",
      "Requirement already satisfied: terminado>=0.8.3 in /home/anz007/apps/miniconda3/envs/ikh315/lib/python3.7/site-packages (from notebook>=4.4.1->widgetsnbextension~=3.5.0->ipywidgets) (0.8.3)\n",
      "Requirement already satisfied: argon2-cffi in /home/anz007/apps/miniconda3/envs/ikh315/lib/python3.7/site-packages (from notebook>=4.4.1->widgetsnbextension~=3.5.0->ipywidgets) (20.1.0)\n",
      "Requirement already satisfied: Send2Trash in /home/anz007/apps/miniconda3/envs/ikh315/lib/python3.7/site-packages (from notebook>=4.4.1->widgetsnbextension~=3.5.0->ipywidgets) (1.5.0)\n",
      "Requirement already satisfied: prometheus-client in /home/anz007/apps/miniconda3/envs/ikh315/lib/python3.7/site-packages (from notebook>=4.4.1->widgetsnbextension~=3.5.0->ipywidgets) (0.8.0)\n",
      "Requirement already satisfied: jinja2 in /home/anz007/apps/miniconda3/envs/ikh315/lib/python3.7/site-packages (from notebook>=4.4.1->widgetsnbextension~=3.5.0->ipywidgets) (2.11.2)\n",
      "Requirement already satisfied: importlib-metadata; python_version < \"3.8\" in /home/anz007/apps/miniconda3/envs/ikh315/lib/python3.7/site-packages (from jsonschema!=2.5.0,>=2.4->nbformat>=4.2.0->ipywidgets) (1.7.0)\n",
      "Requirement already satisfied: attrs>=17.4.0 in /home/anz007/apps/miniconda3/envs/ikh315/lib/python3.7/site-packages (from jsonschema!=2.5.0,>=2.4->nbformat>=4.2.0->ipywidgets) (20.2.0)\n",
      "Requirement already satisfied: six>=1.11.0 in /home/anz007/apps/miniconda3/envs/ikh315/lib/python3.7/site-packages (from jsonschema!=2.5.0,>=2.4->nbformat>=4.2.0->ipywidgets) (1.15.0)\n",
      "Requirement already satisfied: pyrsistent>=0.14.0 in /home/anz007/apps/miniconda3/envs/ikh315/lib/python3.7/site-packages (from jsonschema!=2.5.0,>=2.4->nbformat>=4.2.0->ipywidgets) (0.16.0)\n",
      "Requirement already satisfied: testpath in /home/anz007/apps/miniconda3/envs/ikh315/lib/python3.7/site-packages (from nbconvert->notebook>=4.4.1->widgetsnbextension~=3.5.0->ipywidgets) (0.4.4)\n",
      "Requirement already satisfied: mistune<2,>=0.8.1 in /home/anz007/apps/miniconda3/envs/ikh315/lib/python3.7/site-packages (from nbconvert->notebook>=4.4.1->widgetsnbextension~=3.5.0->ipywidgets) (0.8.4)\n",
      "Requirement already satisfied: defusedxml in /home/anz007/apps/miniconda3/envs/ikh315/lib/python3.7/site-packages (from nbconvert->notebook>=4.4.1->widgetsnbextension~=3.5.0->ipywidgets) (0.6.0)\n",
      "Requirement already satisfied: pandocfilters>=1.4.1 in /home/anz007/apps/miniconda3/envs/ikh315/lib/python3.7/site-packages (from nbconvert->notebook>=4.4.1->widgetsnbextension~=3.5.0->ipywidgets) (1.4.2)\n",
      "Requirement already satisfied: entrypoints>=0.2.2 in /home/anz007/apps/miniconda3/envs/ikh315/lib/python3.7/site-packages (from nbconvert->notebook>=4.4.1->widgetsnbextension~=3.5.0->ipywidgets) (0.3)\n",
      "Requirement already satisfied: bleach in /home/anz007/apps/miniconda3/envs/ikh315/lib/python3.7/site-packages (from nbconvert->notebook>=4.4.1->widgetsnbextension~=3.5.0->ipywidgets) (3.1.5)\n",
      "Requirement already satisfied: cffi>=1.0.0 in /home/anz007/apps/miniconda3/envs/ikh315/lib/python3.7/site-packages (from argon2-cffi->notebook>=4.4.1->widgetsnbextension~=3.5.0->ipywidgets) (1.14.2)\n"
     ]
    },
    {
     "name": "stdout",
     "output_type": "stream",
     "text": [
      "Requirement already satisfied: MarkupSafe>=0.23 in /home/anz007/apps/miniconda3/envs/ikh315/lib/python3.7/site-packages (from jinja2->notebook>=4.4.1->widgetsnbextension~=3.5.0->ipywidgets) (1.1.1)\n",
      "Requirement already satisfied: zipp>=0.5 in /home/anz007/apps/miniconda3/envs/ikh315/lib/python3.7/site-packages (from importlib-metadata; python_version < \"3.8\"->jsonschema!=2.5.0,>=2.4->nbformat>=4.2.0->ipywidgets) (3.1.0)\n",
      "Requirement already satisfied: packaging in /home/anz007/apps/miniconda3/envs/ikh315/lib/python3.7/site-packages (from bleach->nbconvert->notebook>=4.4.1->widgetsnbextension~=3.5.0->ipywidgets) (20.4)\n",
      "Requirement already satisfied: webencodings in /home/anz007/apps/miniconda3/envs/ikh315/lib/python3.7/site-packages (from bleach->nbconvert->notebook>=4.4.1->widgetsnbextension~=3.5.0->ipywidgets) (0.5.1)\n",
      "Requirement already satisfied: pycparser in /home/anz007/apps/miniconda3/envs/ikh315/lib/python3.7/site-packages (from cffi>=1.0.0->argon2-cffi->notebook>=4.4.1->widgetsnbextension~=3.5.0->ipywidgets) (2.20)\n",
      "Requirement already satisfied: pyparsing>=2.0.2 in /home/anz007/apps/miniconda3/envs/ikh315/lib/python3.7/site-packages (from packaging->bleach->nbconvert->notebook>=4.4.1->widgetsnbextension~=3.5.0->ipywidgets) (2.4.7)\n",
      "Installing /home/anz007/apps/miniconda3/envs/ikh315/lib/python3.7/site-packages/fileupload/static -> fileupload\n",
      "Up to date: /home/anz007/.local/share/jupyter/nbextensions/fileupload/widget.js\n",
      "Up to date: /home/anz007/.local/share/jupyter/nbextensions/fileupload/extension.js\n",
      "Up to date: /home/anz007/.local/share/jupyter/nbextensions/fileupload/fileupload/widget.js\n",
      "- Validating: \u001b[32mOK\u001b[0m\n",
      "\n",
      "    To initialize this nbextension in the browser every time the notebook (or other app) loads:\n",
      "    \n",
      "          jupyter nbextension enable fileupload --user --py\n",
      "    \n",
      "Enabling notebook extension fileupload/extension...\n",
      "      - Validating: \u001b[32mOK\u001b[0m\n"
     ]
    }
   ],
   "source": [
    "!pip install wordcloud\n",
    "!pip install fileupload\n",
    "!pip install ipywidgets\n",
    "!jupyter nbextension install --py --user fileupload\n",
    "!jupyter nbextension enable --py fileupload\n",
    "\n",
    "import wordcloud\n",
    "import numpy as np\n",
    "from matplotlib import pyplot as plt\n",
    "from IPython.display import display\n",
    "import fileupload\n",
    "import io\n",
    "import sys"
   ]
  },
  {
   "cell_type": "code",
   "execution_count": 3,
   "metadata": {},
   "outputs": [
    {
     "data": {
      "application/vnd.jupyter.widget-view+json": {
       "model_id": "142acbf308074d3eb3efc4d83a066d9a",
       "version_major": 2,
       "version_minor": 0
      },
      "text/plain": [
       "FileUploadWidget(label='Browse', _dom_classes=('widget_item', 'btn-group'))"
      ]
     },
     "metadata": {},
     "output_type": "display_data"
    }
   ],
   "source": [
    "# This is the uploader widget\n",
    "\n",
    "def _upload():\n",
    "\n",
    "    _upload_widget = fileupload.FileUploadWidget()\n",
    "\n",
    "    def _cb(change):\n",
    "        global file_contents\n",
    "        decoded = io.StringIO(change['owner'].data.decode('utf-8'))\n",
    "        filename = change['owner'].filename\n",
    "        print('Uploaded `{}` ({:.2f} kB)'.format(\n",
    "            filename, len(decoded.read()) / 2 **10))\n",
    "        file_contents = decoded.getvalue()\n",
    "\n",
    "    _upload_widget.observe(_cb, names='data')\n",
    "    display(_upload_widget)\n",
    "\n",
    "_upload()"
   ]
  },
  {
   "cell_type": "code",
   "execution_count": 4,
   "metadata": {},
   "outputs": [],
   "source": [
    "def calculate_frequencies(file_contents):\n",
    "    \n",
    "    punctuations = '''!()-[]{};:'\"\\,<>./?@#$%^&*_~'''\n",
    "    uninteresting_words = [\"the\",\"for\", \"a\", \"to\", \"if\", \"is\",\"not\",\"on\", \"it\", \"of\", \"and\", \"or\", \"an\", \"as\",\"in\", \"i\", \"me\", \"my\", \\\n",
    "    \"we\", \"our\", \"ours\", \"you\", \"your\", \"yours\", \"he\", \"she\", \"him\", \"his\", \"her\", \"hers\", \"its\", \"they\", \"them\", \\\n",
    "    \"their\", \"what\", \"which\", \"who\", \"whom\", \"this\", \"that\", \"am\", \"are\", \"was\", \"were\", \"be\", \"been\", \"being\", \\\n",
    "    \"have\", \"has\", \"had\", \"do\", \"does\", \"did\", \"but\", \"at\", \"by\", \"with\", \"from\", \"here\", \"when\", \"where\", \"how\", \\\n",
    "    \"all\", \"any\", \"both\", \"each\", \"few\", \"more\", \"some\", \"such\", \"no\", \"nor\", \"too\", \"very\", \"can\", \"will\", \"just\",\"than\"]\n",
    "    new_content = \"\"\n",
    "    frequencies = {}\n",
    "    for ch in file_contents:\n",
    "        if ch not in punctuations:\n",
    "            new_content += ch\n",
    "    temp_file = new_content.split(\" \")\n",
    "    while \"\" in temp_file:\n",
    "        temp_file.remove(\"\")\n",
    "    for word in temp_file:\n",
    "        if word.lower() not in uninteresting_words:\n",
    "            if word in frequencies:\n",
    "                frequencies[word] +=1\n",
    "            else:\n",
    "                frequencies[word] = 1\n",
    "    \n",
    "    #wordcloud\n",
    "    cloud = wordcloud.WordCloud()\n",
    "    cloud.generate_from_frequencies(frequencies)\n",
    "    return cloud.to_array()"
   ]
  },
  {
   "cell_type": "code",
   "execution_count": 5,
   "metadata": {},
   "outputs": [
    {
     "ename": "NameError",
     "evalue": "name 'file_contents' is not defined",
     "output_type": "error",
     "traceback": [
      "\u001b[0;31m---------------------------------------------------------------------------\u001b[0m",
      "\u001b[0;31mNameError\u001b[0m                                 Traceback (most recent call last)",
      "\u001b[0;32m<ipython-input-5-d0e083244f6f>\u001b[0m in \u001b[0;36m<module>\u001b[0;34m\u001b[0m\n\u001b[1;32m      1\u001b[0m \u001b[0;31m# Display your wordcloud image\u001b[0m\u001b[0;34m\u001b[0m\u001b[0;34m\u001b[0m\u001b[0;34m\u001b[0m\u001b[0m\n\u001b[0;32m----> 2\u001b[0;31m \u001b[0mmyimage\u001b[0m \u001b[0;34m=\u001b[0m \u001b[0mcalculate_frequencies\u001b[0m\u001b[0;34m(\u001b[0m\u001b[0mfile_contents\u001b[0m\u001b[0;34m)\u001b[0m\u001b[0;34m\u001b[0m\u001b[0;34m\u001b[0m\u001b[0m\n\u001b[0m\u001b[1;32m      3\u001b[0m \u001b[0mplt\u001b[0m\u001b[0;34m.\u001b[0m\u001b[0mimshow\u001b[0m\u001b[0;34m(\u001b[0m\u001b[0mmyimage\u001b[0m\u001b[0;34m,\u001b[0m \u001b[0minterpolation\u001b[0m \u001b[0;34m=\u001b[0m \u001b[0;34m'nearest'\u001b[0m\u001b[0;34m)\u001b[0m\u001b[0;34m\u001b[0m\u001b[0;34m\u001b[0m\u001b[0m\n\u001b[1;32m      4\u001b[0m \u001b[0mplt\u001b[0m\u001b[0;34m.\u001b[0m\u001b[0maxis\u001b[0m\u001b[0;34m(\u001b[0m\u001b[0;34m'off'\u001b[0m\u001b[0;34m)\u001b[0m\u001b[0;34m\u001b[0m\u001b[0;34m\u001b[0m\u001b[0m\n\u001b[1;32m      5\u001b[0m \u001b[0mplt\u001b[0m\u001b[0;34m.\u001b[0m\u001b[0mshow\u001b[0m\u001b[0;34m(\u001b[0m\u001b[0;34m)\u001b[0m\u001b[0;34m\u001b[0m\u001b[0;34m\u001b[0m\u001b[0m\n",
      "\u001b[0;31mNameError\u001b[0m: name 'file_contents' is not defined"
     ]
    }
   ],
   "source": [
    "# Display your wordcloud image\n",
    "myimage = calculate_frequencies(file_contents)\n",
    "plt.imshow(myimage, interpolation = 'nearest')\n",
    "plt.axis('off')\n",
    "plt.show()"
   ]
  },
  {
   "cell_type": "code",
   "execution_count": null,
   "metadata": {},
   "outputs": [],
   "source": []
  }
 ],
 "metadata": {
  "kernelspec": {
   "display_name": "Python 3",
   "language": "python",
   "name": "python3"
  },
  "language_info": {
   "codemirror_mode": {
    "name": "ipython",
    "version": 3
   },
   "file_extension": ".py",
   "mimetype": "text/x-python",
   "name": "python",
   "nbconvert_exporter": "python",
   "pygments_lexer": "ipython3",
   "version": "3.7.9"
  }
 },
 "nbformat": 4,
 "nbformat_minor": 4
}
